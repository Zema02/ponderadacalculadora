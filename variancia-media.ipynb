{
 "cells": [
  {
   "cell_type": "code",
   "execution_count": 1,
   "metadata": {},
   "outputs": [
    {
     "name": "stdout",
     "output_type": "stream",
     "text": [
      "{'mean': [[3.0, 4.0, 5.0], [1.0, 4.0, 7.0], 4.0], 'variance': [[6.0, 6.0, 6.0], [0.6666666666666666, 0.6666666666666666, 0.6666666666666666], 6.666666666666667], 'standard deviation': [[2.449489742783178, 2.449489742783178, 2.449489742783178], [0.816496580927726, 0.816496580927726, 0.816496580927726], 2.581988897471611], 'max': [[6, 7, 8], [2, 5, 8], 8], 'min': [[0, 1, 2], [0, 3, 6], 0], 'sum': [[9, 12, 15], [3, 12, 21], 36]}\n"
     ]
    }
   ],
   "source": [
    "# Primeiro, importamos a biblioteca necessária para realizar operações com arrays.\n",
    "import numpy as np\n",
    "\n",
    "# Definindo a função calculate que realiza as operações solicitadas em uma matriz 3x3.\n",
    "def calculate(input_list):\n",
    "    \"\"\"\n",
    "    Esta função recebe uma lista de 9 números e realiza operações matemáticas como média, variância, \n",
    "    desvio padrão, valor máximo, valor mínimo e soma. O resultado é retornado em um dicionário estruturado.\n",
    "    \n",
    "    Parâmetros:\n",
    "    - input_list (list): Uma lista contendo 9 números.\n",
    "\n",
    "    Retorna:\n",
    "    - dict: Um dicionário com as operações realizadas ao longo dos eixos 0, 1 e para a matriz achatada.\n",
    "    \"\"\"\n",
    "    # Verifica se o input possui exatamente 9 elementos.\n",
    "    if len(input_list) != 9:\n",
    "        raise ValueError(\"List must contain nine numbers.\")  # Lança um erro se a lista não tiver 9 números.\n",
    "    \n",
    "    # Converte a lista em um array 3x3 utilizando numpy.\n",
    "    matrix = np.array(input_list).reshape(3, 3)\n",
    "    \n",
    "    # Calculando as métricas ao longo dos eixos e para a matriz achatada.\n",
    "    calculations = {\n",
    "        'mean': [matrix.mean(axis=0).tolist(), matrix.mean(axis=1).tolist(), matrix.mean().tolist()],\n",
    "        'variance': [matrix.var(axis=0).tolist(), matrix.var(axis=1).tolist(), matrix.var().tolist()],\n",
    "        'standard deviation': [matrix.std(axis=0).tolist(), matrix.std(axis=1).tolist(), matrix.std().tolist()],\n",
    "        'max': [matrix.max(axis=0).tolist(), matrix.max(axis=1).tolist(), matrix.max().tolist()],\n",
    "        'min': [matrix.min(axis=0).tolist(), matrix.min(axis=1).tolist(), matrix.min().tolist()],\n",
    "        'sum': [matrix.sum(axis=0).tolist(), matrix.sum(axis=1).tolist(), matrix.sum().tolist()]\n",
    "    }\n",
    "\n",
    "    # Retorna o dicionário com todas as operações realizadas.\n",
    "    return calculations\n",
    "\n",
    "# Testando a função com um exemplo.\n",
    "# Vamos usar a lista [0, 1, 2, 3, 4, 5, 6, 7, 8] que deve ser convertida em uma matriz 3x3.\n",
    "example = [0, 1, 2, 3, 4, 5, 6, 7, 8]\n",
    "result = calculate(example)\n",
    "\n",
    "# Exibindo o resultado\n",
    "print(result)\n"
   ]
  }
 ],
 "metadata": {
  "kernelspec": {
   "display_name": "Python 3",
   "language": "python",
   "name": "python3"
  },
  "language_info": {
   "codemirror_mode": {
    "name": "ipython",
    "version": 3
   },
   "file_extension": ".py",
   "mimetype": "text/x-python",
   "name": "python",
   "nbconvert_exporter": "python",
   "pygments_lexer": "ipython3",
   "version": "3.12.6"
  }
 },
 "nbformat": 4,
 "nbformat_minor": 2
}
